{
    "cells": [
        {
            "cell_type": "markdown",
            "metadata": {
                "collapsed": true
            },
            "source": "# My Jupyter Notebook on IBM Watson Studio"
        },
        {
            "cell_type": "markdown",
            "metadata": {},
            "source": "**Oluwakayode Samuel Oyedokun**<br>My desired occupation is data scientist"
        },
        {
            "cell_type": "markdown",
            "metadata": {},
            "source": "*I am interested in data science because it is one of the most promising tech professions and it will help me to develop skills needed to create actionable insights from data*"
        },
        {
            "cell_type": "markdown",
            "metadata": {},
            "source": "<H3> The code below performs simple arithmetic operation (addition) in python to return an output."
        },
        {
            "cell_type": "code",
            "execution_count": 1,
            "metadata": {},
            "outputs": [
                {
                    "data": {
                        "text/plain": "2"
                    },
                    "execution_count": 1,
                    "metadata": {},
                    "output_type": "execute_result"
                }
            ],
            "source": "1+1"
        },
        {
            "cell_type": "markdown",
            "metadata": {},
            "source": "#### Creating an hyperlink\n[dclm link](https://www.dclm.org)"
        },
        {
            "cell_type": "markdown",
            "metadata": {},
            "source": "#### Some countries in Africa\n1. Nigeria\n2. South Africa\n3. Ghana\n4. Algeria"
        },
        {
            "cell_type": "markdown",
            "metadata": {},
            "source": "#### Names of puritans\n- John wesley\n- Charles Spurgeon\n- Charles G. Finney"
        },
        {
            "cell_type": "code",
            "execution_count": null,
            "metadata": {},
            "outputs": [],
            "source": ""
        }
    ],
    "metadata": {
        "kernelspec": {
            "display_name": "Python 3.10",
            "language": "python",
            "name": "python3"
        },
        "language_info": {
            "codemirror_mode": {
                "name": "ipython",
                "version": 3
            },
            "file_extension": ".py",
            "mimetype": "text/x-python",
            "name": "python",
            "nbconvert_exporter": "python",
            "pygments_lexer": "ipython3",
            "version": "3.10.9"
        }
    },
    "nbformat": 4,
    "nbformat_minor": 1
}